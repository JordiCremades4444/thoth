{
 "cells": [
  {
   "cell_type": "markdown",
   "metadata": {},
   "source": [
    "# Top Brands Feature Stores"
   ]
  },
  {
   "cell_type": "code",
   "execution_count": 4,
   "metadata": {},
   "outputs": [
    {
     "name": "stdout",
     "output_type": "stream",
     "text": [
      "Running glovo_mlp_feature_store_admin version 0.0.0 (local)\n",
      "DMLP/FS page: https://glovoapp.atlassian.net/wiki/spaces/DATA/pages/3883336272/Declarative+Machine+Learning+Platform+and+Feature+Store\n",
      "Slack: #tech-mlp-public\n"
     ]
    }
   ],
   "source": [
    "import sys\n",
    "\n",
    "from src import query_engines\n",
    "\n",
    "# Append the path of the mlp-feature-store-admin repo\n",
    "sys.path.append('/Users/jordicremades/Documents/repos/mlp-feature-store-admin')\n",
    "\n",
    "from glovo_mlp_feature_store_admin.imports import *"
   ]
  },
  {
   "cell_type": "markdown",
   "metadata": {},
   "source": [
    "# Initiate connection"
   ]
  },
  {
   "cell_type": "code",
   "execution_count": 38,
   "metadata": {},
   "outputs": [
    {
     "name": "stdout",
     "output_type": "stream",
     "text": [
      "Trino connection initialized\n"
     ]
    }
   ],
   "source": [
    "utils_db.Trino.init_connection()"
   ]
  },
  {
   "cell_type": "code",
   "execution_count": null,
   "metadata": {},
   "outputs": [
    {
     "name": "stdout",
     "output_type": "stream",
     "text": [
      "Using provided token.\n"
     ]
    }
   ],
   "source": [
    "# Copy inside auth_token the token you can read after login_fs()\n",
    "login_fs(auth_token='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')"
   ]
  },
  {
   "cell_type": "markdown",
   "metadata": {},
   "source": [
    "# Trino (Not Live in the app necessarily)"
   ]
  },
  {
   "cell_type": "code",
   "execution_count": 53,
   "metadata": {},
   "outputs": [
    {
     "data": {
      "text/html": [
       "<div>\n",
       "<style scoped>\n",
       "    .dataframe tbody tr th:only-of-type {\n",
       "        vertical-align: middle;\n",
       "    }\n",
       "\n",
       "    .dataframe tbody tr th {\n",
       "        vertical-align: top;\n",
       "    }\n",
       "\n",
       "    .dataframe thead th {\n",
       "        text-align: right;\n",
       "    }\n",
       "</style>\n",
       "<table border=\"1\" class=\"dataframe\">\n",
       "  <thead>\n",
       "    <tr style=\"text-align: right;\">\n",
       "      <th></th>\n",
       "      <th>33/CITY_CODE_STORE_CATEGORY_ID</th>\n",
       "      <th>3119017/TOP_BRANDS_BY_CITY_AND_CATEGORY_ID</th>\n",
       "    </tr>\n",
       "  </thead>\n",
       "  <tbody>\n",
       "    <tr>\n",
       "      <th>0</th>\n",
       "      <td>BCN_4</td>\n",
       "      <td>[3214, 324846, 146534, 725, 324516, 6, 45970, ...</td>\n",
       "    </tr>\n",
       "  </tbody>\n",
       "</table>\n",
       "</div>"
      ],
      "text/plain": [
       "  33/CITY_CODE_STORE_CATEGORY_ID  \\\n",
       "0                          BCN_4   \n",
       "\n",
       "          3119017/TOP_BRANDS_BY_CITY_AND_CATEGORY_ID  \n",
       "0  [3214, 324846, 146534, 725, 324516, 6, 45970, ...  "
      ]
     },
     "execution_count": 53,
     "metadata": {},
     "output_type": "execute_result"
    }
   ],
   "source": [
    "INPUT_CITY_CATEGORY = 'BCN_4'\n",
    "PARTITION_DS = '2024-03-08'\n",
    "\n",
    "sql_query = FeatureStore.fetch_sql_query(\n",
    "    feature_idnames=[\n",
    "        \"33/CITY_CODE_STORE_CATEGORY_ID\",\n",
    "        \"3119017/TOP_BRANDS_BY_CITY_AND_CATEGORY_ID\", # This is different from before, as now this only features cities to their main category. So we do not have duplications because of mirrored stores.\n",
    "    ], \n",
    "    keys=[INPUT_CITY_CATEGORY],\n",
    "    partition_ds=PARTITION_DS # Does not matter what you put here, seems to always point to the latest partition\n",
    ")\n",
    "\n",
    "df = pd.DataFrame(utils_db.query_trino(sql_query).T.T)\n",
    "df"
   ]
  },
  {
   "cell_type": "markdown",
   "metadata": {},
   "source": [
    "# Redis"
   ]
  },
  {
   "cell_type": "code",
   "execution_count": 35,
   "metadata": {},
   "outputs": [
    {
     "data": {
      "text/html": [
       "<div>\n",
       "<style scoped>\n",
       "    .dataframe tbody tr th:only-of-type {\n",
       "        vertical-align: middle;\n",
       "    }\n",
       "\n",
       "    .dataframe tbody tr th {\n",
       "        vertical-align: top;\n",
       "    }\n",
       "\n",
       "    .dataframe thead th {\n",
       "        text-align: right;\n",
       "    }\n",
       "</style>\n",
       "<table border=\"1\" class=\"dataframe\">\n",
       "  <thead>\n",
       "    <tr style=\"text-align: right;\">\n",
       "      <th></th>\n",
       "      <th>3119017/TOP_BRANDS_BY_CITY_AND_CATEGORY_ID</th>\n",
       "    </tr>\n",
       "  </thead>\n",
       "  <tbody>\n",
       "    <tr>\n",
       "      <th>OPO_3</th>\n",
       "      <td>[96724, 449526, 401710, 482919, 460793, 436161...</td>\n",
       "    </tr>\n",
       "  </tbody>\n",
       "</table>\n",
       "</div>"
      ],
      "text/plain": [
       "              3119017/TOP_BRANDS_BY_CITY_AND_CATEGORY_ID\n",
       "OPO_3  [96724, 449526, 401710, 482919, 460793, 436161..."
      ]
     },
     "execution_count": 35,
     "metadata": {},
     "output_type": "execute_result"
    }
   ],
   "source": [
    "INPUT_CITY_CATEGORY = 'OPO_3'\n",
    "\n",
    "query = FeatureStore.fetch_feature_values(\n",
    "    feature_idnames=[\n",
    "        \"3119017/TOP_BRANDS_BY_CITY_AND_CATEGORY_ID\", # This is different from before, as now this only features cities to their main category. So we do not have duplications because of mirrored stores.\n",
    "    ], \n",
    "    keys=[INPUT_CITY_CATEGORY],\n",
    ")\n",
    "\n",
    "df = pd.DataFrame(query)\n",
    "df"
   ]
  }
 ],
 "metadata": {
  "kernelspec": {
   "display_name": "Python (feature_store_2025)",
   "language": "python",
   "name": "feature_store_2025"
  },
  "language_info": {
   "codemirror_mode": {
    "name": "ipython",
    "version": 3
   },
   "file_extension": ".py",
   "mimetype": "text/x-python",
   "name": "python",
   "nbconvert_exporter": "python",
   "pygments_lexer": "ipython3",
   "version": "3.11.11"
  }
 },
 "nbformat": 4,
 "nbformat_minor": 2
}
