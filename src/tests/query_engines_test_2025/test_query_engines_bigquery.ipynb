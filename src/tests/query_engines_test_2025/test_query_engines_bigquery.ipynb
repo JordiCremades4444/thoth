{
 "cells": [
  {
   "cell_type": "code",
   "execution_count": 2,
   "id": "fe8d3eef-26c1-438d-8e0f-4b455944ce79",
   "metadata": {},
   "outputs": [
    {
     "name": "stderr",
     "output_type": "stream",
     "text": [
      "Your browser has been opened to visit:\n",
      "\n",
      "    https://accounts.google.com/o/oauth2/auth?response_type=code&client_id=764086051850-6qr4p6gpi6hn506pt8ejuq83di341hur.apps.googleusercontent.com&redirect_uri=http%3A%2F%2Flocalhost%3A8085%2F&scope=openid+https%3A%2F%2Fwww.googleapis.com%2Fauth%2Fuserinfo.email+https%3A%2F%2Fwww.googleapis.com%2Fauth%2Fcloud-platform+https%3A%2F%2Fwww.googleapis.com%2Fauth%2Fsqlservice.login&state=Y1FjbozcuoeiRQzgdrSHMp3tP402Me&access_type=offline&code_challenge=L9TW7zrcNFgYXBSnxwwH-PVXH5SHL7nf9MfuaQoYPC4&code_challenge_method=S256\n",
      "\n",
      "\n",
      "Credentials saved to file: [/Users/jordicremades/.config/gcloud/application_default_credentials.json]\n",
      "\n",
      "These credentials will be used by any library that requests Application Default Credentials (ADC).\n",
      "\n",
      "Quota project \"dhub-glovo\" was added to ADC which can be used by Google client libraries for billing and quota. Note that some services may still bill the project owning the resource.\n"
     ]
    }
   ],
   "source": [
    "from utils import query_engines\n",
    "\n",
    "q = query_engines.QueryEngines()"
   ]
  },
  {
   "cell_type": "code",
   "execution_count": null,
   "id": "fcb554a8",
   "metadata": {},
   "outputs": [],
   "source": [
    "# Query\n",
    "QUERY_NAME = 'test_bigquery.sql'\n",
    "START_DATE = \"'2025-01-01'\"\n",
    "END_DATE = \"'2026-01-01'\"\n",
    "\n",
    "params = {\n",
    "    'start_date': str(START_DATE),\n",
    "    'end_date': str(END_DATE)\n",
    "}\n",
    "\n",
    "df = q.run_query_bigquery(\n",
    "    QUERY_NAME,\n",
    "    params=params,\n",
    "    csv_file=QUERY_NAME,\n",
    "    load_csv_file=False\n",
    ")\n",
    "\n",
    "df.head()"
   ]
  }
 ],
 "metadata": {
  "kernelspec": {
   "display_name": "query_engines_test_2025",
   "language": "python",
   "name": "query_engines_test_2025"
  },
  "language_info": {
   "codemirror_mode": {
    "name": "ipython",
    "version": 3
   },
   "file_extension": ".py",
   "mimetype": "text/x-python",
   "name": "python",
   "nbconvert_exporter": "python",
   "pygments_lexer": "ipython3",
   "version": "3.9.6"
  }
 },
 "nbformat": 4,
 "nbformat_minor": 5
}
