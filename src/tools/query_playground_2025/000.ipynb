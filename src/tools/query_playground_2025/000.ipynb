{
 "cells": [
  {
   "cell_type": "markdown",
   "metadata": {},
   "source": [
    "# XXX"
   ]
  },
  {
   "cell_type": "code",
   "execution_count": 1,
   "metadata": {},
   "outputs": [],
   "source": [
    "from utils import query_engines, dataframe_tools\n",
    "\n",
    "q = query_engines.QueryEngines()"
   ]
  },
  {
   "cell_type": "markdown",
   "metadata": {},
   "source": [
    "# Templates"
   ]
  },
  {
   "cell_type": "code",
   "execution_count": null,
   "metadata": {},
   "outputs": [],
   "source": [
    "# Table explorer\n",
    "TABLE = 'XXX'\n",
    "\n",
    "df = q.run_table_explorer_starburst(TABLE)\n",
    "df.head()\n",
    "\n",
    "\n",
    "\n",
    "# Query\n",
    "QUERY_NAME = '000.sql'\n",
    "START_DATE = \"'YYYY-MM-DD'\"\n",
    "END_DATE = \"'YYYY-MM-DD'\"\n",
    "\n",
    "params = {\n",
    "    'start_date': str(START_DATE),\n",
    "    'end_date': str(END_DATE)\n",
    "}\n",
    "\n",
    "df = q.run_query_starburst(\n",
    "    QUERY_NAME,\n",
    "    params=params,\n",
    "    csv_file=QUERY_NAME,\n",
    "    load_csv_file=False\n",
    ")\n",
    "\n",
    "df.head()\n",
    "\n",
    "\n",
    "\n",
    "# Pivot\n",
    "pivot_params = {\n",
    "    'df': df,\n",
    "    'index': [1],\n",
    "    'columns': [2],\n",
    "    'values': [3],\n",
    "    'aggfuncs': ['sum']\n",
    "}\n",
    "\n",
    "p = dataframe_tools.Pivot(df, pivot_params).run_pivot()\n",
    "p\n",
    "\n",
    "\n",
    "\n",
    "\n",
    "# Plot\n",
    "figure_params = {\n",
    "    'n_plots': 1, \n",
    "    'fig_length': 10,\n",
    "    'fig_height': 6,\n",
    "    'x_rotation': 45,\n",
    "    'share_x': False,\n",
    "    'share_y': False,\n",
    "    'x_limits': None, # [(X, X)]\n",
    "    'y_limits': None, # [(X, X)]\n",
    "    'log_axis': None, # ['x', 'y', 'both']\n",
    "    'title': None,\n",
    "}\n",
    "\n",
    "plot_params = [\n",
    "    {\n",
    "    \"plot_type\": \"lineplot\",\n",
    "    \"x_column\": [1],  \n",
    "    \"y_columns\": [2,3],\n",
    "    \"colors\": ['b','o'], # ['o','g','r','pu','br','pi','gr','ol','cy']\n",
    "    \"styles\": ['-','-'], # ['--'. '-', ':']\n",
    "    \"legend\": True\n",
    "    },\n",
    "]\n",
    "\n",
    "\n",
    "dataframe_tools.Plotter(p, plot_params=plot_params, figure_params=figure_params).run_plotter()"
   ]
  }
 ],
 "metadata": {
  "kernelspec": {
   "display_name": "query_playground_2025",
   "language": "python",
   "name": "query_playground_2025"
  },
  "language_info": {
   "codemirror_mode": {
    "name": "ipython",
    "version": 3
   },
   "file_extension": ".py",
   "mimetype": "text/x-python",
   "name": "python",
   "nbconvert_exporter": "python",
   "pygments_lexer": "ipython3",
   "version": "3.10.16"
  }
 },
 "nbformat": 4,
 "nbformat_minor": 2
}
